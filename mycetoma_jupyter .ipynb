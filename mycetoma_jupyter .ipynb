{
 "cells": [
  {
   "attachments": {},
   "cell_type": "markdown",
   "metadata": {},
   "source": [
    "This project ......."
   ]
  },
  {
   "attachments": {},
   "cell_type": "markdown",
   "metadata": {},
   "source": [
    "Import used libraries:"
   ]
  },
  {
   "cell_type": "code",
   "execution_count": 255,
   "metadata": {},
   "outputs": [],
   "source": [
    "import pandas as pd\n",
    "import numpy as np\n",
    "from pandas.plotting import scatter_matrix\n",
    "import matplotlib.pyplot as plt\n",
    "from sklearn.impute import SimpleImputer  \n",
    "from sklearn.preprocessing import StandardScaler\n",
    "from sklearn.preprocessing import OneHotEncoder\n",
    "from sklearn.pipeline import make_pipeline\n",
    "from sklearn.linear_model import LinearRegression\n",
    "from sklearn.model_selection import train_test_split\n",
    "from sklearn.compose import ColumnTransformer\n",
    "from sklearn.metrics import mean_squared_error \n",
    "from sklearn.tree import DecisionTreeRegressor\n",
    "from sklearn.model_selection import cross_val_score\n",
    "from sklearn.ensemble import RandomForestRegressor\n",
    "from scipy import stats"
   ]
  },
  {
   "attachments": {},
   "cell_type": "markdown",
   "metadata": {},
   "source": [
    "Load data and general description of data"
   ]
  },
  {
   "cell_type": "code",
   "execution_count": 256,
   "metadata": {},
   "outputs": [
    {
     "name": "stdout",
     "output_type": "stream",
     "text": [
      "   age     sex  occupation family_hx concomittent_dx  duration_before  \\\n",
      "0   22    male      others        no            none              2.0   \n",
      "1   55    male      farmer        no            none              4.0   \n",
      "2   35    male      farmer        no            none             25.0   \n",
      "3   29    male      others        no            none              9.0   \n",
      "4   23  female  house wife        no            none              5.0   \n",
      "\n",
      "         site size_1st_presenation organism                 x_ray  \\\n",
      "0  right foot         from 5 to 10       AM                   NaN   \n",
      "1   left foot         more than 10       SS           combination   \n",
      "2  right ahnd             operated       SS                   NaN   \n",
      "3  right foot         from 5 to 10       SS                   NaN   \n",
      "4   left foot         from 5 to 10       SS  soft tissue swelling   \n",
      "\n",
      "  sinuses_1st_presentation surgery_pre_tx                         type_tx  \\\n",
      "0                   active           once  Amoclan + Septrin + Folic acid   \n",
      "1                     none           once  Amoclan + Septrin + Folic acid   \n",
      "2                     none        3 times  Amoclan + Septrin + Folic acid   \n",
      "3                     none           none  Amoclan + Septrin + Folic acid   \n",
      "4                     both           once  Amoclan + Septrin + Folic acid   \n",
      "\n",
      "      side_effects surgery_during_tx missed_followups regular_tx  duration_tx  \n",
      "0  No side effects                no        0-1 times        yes           11  \n",
      "1  No side effects                no        0-1 times        yes           11  \n",
      "2  No side effects                no        0-1 times        yes           12  \n",
      "3  No side effects               yes        2-4 times        yes           12  \n",
      "4  No side effects                no         >4 times         no           13  \n",
      "<class 'pandas.core.frame.DataFrame'>\n",
      "RangeIndex: 76 entries, 0 to 75\n",
      "Data columns (total 18 columns):\n",
      " #   Column                    Non-Null Count  Dtype  \n",
      "---  ------                    --------------  -----  \n",
      " 0   age                       76 non-null     int64  \n",
      " 1   sex                       76 non-null     object \n",
      " 2   occupation                75 non-null     object \n",
      " 3   family_hx                 76 non-null     object \n",
      " 4   concomittent_dx           76 non-null     object \n",
      " 5   duration_before           73 non-null     float64\n",
      " 6   site                      76 non-null     object \n",
      " 7   size_1st_presenation      76 non-null     object \n",
      " 8   organism                  65 non-null     object \n",
      " 9   x_ray                     41 non-null     object \n",
      " 10  sinuses_1st_presentation  76 non-null     object \n",
      " 11  surgery_pre_tx            76 non-null     object \n",
      " 12  type_tx                   75 non-null     object \n",
      " 13  side_effects              76 non-null     object \n",
      " 14  surgery_during_tx         76 non-null     object \n",
      " 15  missed_followups          76 non-null     object \n",
      " 16  regular_tx                76 non-null     object \n",
      " 17  duration_tx               76 non-null     int64  \n",
      "dtypes: float64(1), int64(2), object(15)\n",
      "memory usage: 10.8+ KB\n"
     ]
    },
    {
     "data": {
      "text/html": [
       "<div>\n",
       "<style scoped>\n",
       "    .dataframe tbody tr th:only-of-type {\n",
       "        vertical-align: middle;\n",
       "    }\n",
       "\n",
       "    .dataframe tbody tr th {\n",
       "        vertical-align: top;\n",
       "    }\n",
       "\n",
       "    .dataframe thead th {\n",
       "        text-align: right;\n",
       "    }\n",
       "</style>\n",
       "<table border=\"1\" class=\"dataframe\">\n",
       "  <thead>\n",
       "    <tr style=\"text-align: right;\">\n",
       "      <th></th>\n",
       "      <th>age</th>\n",
       "      <th>duration_before</th>\n",
       "      <th>duration_tx</th>\n",
       "    </tr>\n",
       "  </thead>\n",
       "  <tbody>\n",
       "    <tr>\n",
       "      <th>count</th>\n",
       "      <td>76.000000</td>\n",
       "      <td>73.000000</td>\n",
       "      <td>76.000000</td>\n",
       "    </tr>\n",
       "    <tr>\n",
       "      <th>mean</th>\n",
       "      <td>30.552632</td>\n",
       "      <td>6.273973</td>\n",
       "      <td>16.894737</td>\n",
       "    </tr>\n",
       "    <tr>\n",
       "      <th>std</th>\n",
       "      <td>13.987037</td>\n",
       "      <td>7.596162</td>\n",
       "      <td>10.126637</td>\n",
       "    </tr>\n",
       "    <tr>\n",
       "      <th>min</th>\n",
       "      <td>9.000000</td>\n",
       "      <td>1.000000</td>\n",
       "      <td>3.000000</td>\n",
       "    </tr>\n",
       "    <tr>\n",
       "      <th>25%</th>\n",
       "      <td>20.000000</td>\n",
       "      <td>2.000000</td>\n",
       "      <td>11.000000</td>\n",
       "    </tr>\n",
       "    <tr>\n",
       "      <th>50%</th>\n",
       "      <td>28.000000</td>\n",
       "      <td>4.000000</td>\n",
       "      <td>15.000000</td>\n",
       "    </tr>\n",
       "    <tr>\n",
       "      <th>75%</th>\n",
       "      <td>40.000000</td>\n",
       "      <td>8.000000</td>\n",
       "      <td>21.000000</td>\n",
       "    </tr>\n",
       "    <tr>\n",
       "      <th>max</th>\n",
       "      <td>70.000000</td>\n",
       "      <td>45.000000</td>\n",
       "      <td>53.000000</td>\n",
       "    </tr>\n",
       "  </tbody>\n",
       "</table>\n",
       "</div>"
      ],
      "text/plain": [
       "             age  duration_before  duration_tx\n",
       "count  76.000000        73.000000    76.000000\n",
       "mean   30.552632         6.273973    16.894737\n",
       "std    13.987037         7.596162    10.126637\n",
       "min     9.000000         1.000000     3.000000\n",
       "25%    20.000000         2.000000    11.000000\n",
       "50%    28.000000         4.000000    15.000000\n",
       "75%    40.000000         8.000000    21.000000\n",
       "max    70.000000        45.000000    53.000000"
      ]
     },
     "execution_count": 256,
     "metadata": {},
     "output_type": "execute_result"
    }
   ],
   "source": [
    "df=pd.read_excel(\"C:\\\\Users\\\\khans\\\\OneDrive\\\\Desktop\\\\python_work\\\\cured_data.xlsx\")\n",
    "print(df.head())\n",
    "df.info()\n",
    "df.describe()"
   ]
  },
  {
   "attachments": {},
   "cell_type": "markdown",
   "metadata": {},
   "source": [
    "Plot histograms and scatter matrices of the numerical variables:"
   ]
  },
  {
   "cell_type": "code",
   "execution_count": 257,
   "metadata": {},
   "outputs": [
    {
     "data": {
      "image/png": "[encoded data removed]",
      "text/plain": [
       "<Figure size 864x576 with 4 Axes>"
      ]
     },
     "metadata": {
      "needs_background": "light"
     },
     "output_type": "display_data"
    }
   ],
   "source": [
    "df.hist(bins=50, figsize=(12, 8))\n",
    "plt.show()"
   ]
  },
  {
   "cell_type": "code",
   "execution_count": 258,
   "metadata": {},
   "outputs": [
    {
     "data": {
      "text/plain": [
       "array([[<AxesSubplot:xlabel='duration_tx', ylabel='duration_tx'>,\n",
       "        <AxesSubplot:xlabel='age', ylabel='duration_tx'>,\n",
       "        <AxesSubplot:xlabel='duration_before', ylabel='duration_tx'>],\n",
       "       [<AxesSubplot:xlabel='duration_tx', ylabel='age'>,\n",
       "        <AxesSubplot:xlabel='age', ylabel='age'>,\n",
       "        <AxesSubplot:xlabel='duration_before', ylabel='age'>],\n",
       "       [<AxesSubplot:xlabel='duration_tx', ylabel='duration_before'>,\n",
       "        <AxesSubplot:xlabel='age', ylabel='duration_before'>,\n",
       "        <AxesSubplot:xlabel='duration_before', ylabel='duration_before'>]],\n",
       "      dtype=object)"
      ]
     },
     "execution_count": 258,
     "metadata": {},
     "output_type": "execute_result"
    },
    {
     "data": {
      "image/png": "[encoded data removed]",
      "text/plain": [
       "<Figure size 864x576 with 9 Axes>"
      ]
     },
     "metadata": {
      "needs_background": "light"
     },
     "output_type": "display_data"
    }
   ],
   "source": [
    "attributes=['duration_tx', 'age', 'duration_before']\n",
    "scatter_matrix(df[attributes], figsize=(12,8))"
   ]
  },
  {
   "attachments": {},
   "cell_type": "markdown",
   "metadata": {},
   "source": [
    "Separate test data:"
   ]
  },
  {
   "cell_type": "code",
   "execution_count": 259,
   "metadata": {},
   "outputs": [
    {
     "name": "stdout",
     "output_type": "stream",
     "text": [
      "60\n",
      "16\n"
     ]
    }
   ],
   "source": [
    "train_set, test_set= train_test_split (df, test_size=0.2, random_state=42)\n",
    "print(len(train_set))\n",
    "print(len(test_set))"
   ]
  },
  {
   "attachments": {},
   "cell_type": "markdown",
   "metadata": {},
   "source": [
    "Prepare the data for Machine learning Algorithms:"
   ]
  },
  {
   "cell_type": "code",
   "execution_count": 260,
   "metadata": {},
   "outputs": [],
   "source": [
    "mycetoma = train_set.drop(\"duration_tx\", axis=1)\n",
    "mycetoma_labels = train_set[\"duration_tx\"].copy()"
   ]
  },
  {
   "cell_type": "code",
   "execution_count": 286,
   "metadata": {},
   "outputs": [],
   "source": [
    "numerical_variables = ['age', 'duration_before']\n",
    "categorical_variables = ['sex', 'occupation', 'family_hx', 'concomittent_dx', 'site', 'organism', 'x_ray', 'size_1st_presenation',\n",
    "                     'sinuses_1st_presentation', 'surgery_pre_tx', 'type_tx', 'side_effects','surgery_during_tx',\n",
    "                     'missed_followups', 'regular_tx']\n",
    "num_pipeline = make_pipeline(SimpleImputer(strategy='median'), StandardScaler())\n",
    "    \n",
    "cat_pipeline = make_pipeline (\n",
    "    SimpleImputer(strategy='most_frequent'),\n",
    "    OneHotEncoder(handle_unknown=\"ignore\"))\n",
    "\n",
    "preprocessing = ColumnTransformer([\n",
    "    (\"num\", num_pipeline, numerical_variables),\n",
    "    (\"cat\", cat_pipeline, categorical_variables),\n",
    "])"
   ]
  },
  {
   "attachments": {},
   "cell_type": "markdown",
   "metadata": {},
   "source": [
    "1. Linear Regression:"
   ]
  },
  {
   "cell_type": "code",
   "execution_count": 287,
   "metadata": {},
   "outputs": [
    {
     "name": "stdout",
     "output_type": "stream",
     "text": [
      "[19.20680731 15.30315386 29.99999985  6.99999968 21.99999939]\n",
      "[15 14 30  7 22]\n",
      "2.8744047955689274\n",
      "17.804758057690076\n"
     ]
    },
    {
     "data": {
      "text/plain": [
       "count    10.000000\n",
       "mean     17.804758\n",
       "std       4.537812\n",
       "min      11.856548\n",
       "25%      13.248005\n",
       "50%      18.556339\n",
       "75%      21.744212\n",
       "max      23.535468\n",
       "dtype: float64"
      ]
     },
     "execution_count": 287,
     "metadata": {},
     "output_type": "execute_result"
    }
   ],
   "source": [
    "# Fit the model and compare the first 5 predictions to actual data:\n",
    "lin_reg=make_pipeline(preprocessing, LinearRegression())\n",
    "lin_reg.fit(mycetoma, mycetoma_labels)\n",
    "mycetoma_predictions = lin_reg.predict(mycetoma)\n",
    "print(mycetoma_predictions[:5])\n",
    "print(mycetoma_labels.iloc[:5].values)\n",
    "\n",
    "# Calculate the Mean squared error on the whole training set:\n",
    "lin_rmse = mean_squared_error(mycetoma_labels, mycetoma_predictions,\n",
    "                              squared=False)\n",
    "print(lin_rmse)\n",
    "\n",
    "# Cross-validation:\n",
    "lin_rmses = -cross_val_score(lin_reg, mycetoma, mycetoma_labels,\n",
    "                              scoring=\"neg_root_mean_squared_error\", cv=10)\n",
    "lin_rmse_mean = np.mean(lin_rmses)\n",
    "print(lin_rmse_mean)\n",
    "pd.Series(lin_rmses).describe()\n",
    "\n",
    "\n",
    "\n"
   ]
  },
  {
   "attachments": {},
   "cell_type": "markdown",
   "metadata": {},
   "source": [
    "2. Decision Tree Regressor:"
   ]
  },
  {
   "cell_type": "code",
   "execution_count": 288,
   "metadata": {},
   "outputs": [
    {
     "name": "stdout",
     "output_type": "stream",
     "text": [
      "[15. 14. 30.  7. 22.]\n",
      "[15 14 30  7 22]\n",
      "0.0\n",
      "11.556585182670002\n"
     ]
    },
    {
     "data": {
      "text/plain": [
       "count    10.000000\n",
       "mean     11.556585\n",
       "std       4.616236\n",
       "min       5.016639\n",
       "25%       8.848109\n",
       "50%      10.219974\n",
       "75%      15.272839\n",
       "max      18.663690\n",
       "dtype: float64"
      ]
     },
     "execution_count": 288,
     "metadata": {},
     "output_type": "execute_result"
    }
   ],
   "source": [
    "# Fit the model and compare the first 5 predictions to actual data:\n",
    "tree_reg = make_pipeline(preprocessing, DecisionTreeRegressor(random_state=42))\n",
    "tree_reg.fit(mycetoma, mycetoma_labels)\n",
    "mycetoma_predictions = tree_reg.predict(mycetoma)\n",
    "print(mycetoma_predictions[:5])\n",
    "print(mycetoma_labels.iloc[:5].values)\n",
    "\n",
    "# Calculate the Mean squared error on the whole training set:\n",
    "tree_rmse = mean_squared_error(mycetoma_labels, mycetoma_predictions,\n",
    "                              squared=False)\n",
    "print(tree_rmse)\n",
    "\n",
    "# Cross-validation:\n",
    "tree_rmses = -cross_val_score(tree_reg, mycetoma, mycetoma_labels,\n",
    "                              scoring=\"neg_root_mean_squared_error\", cv=10)\n",
    "tree_rmse_mean = np.mean(tree_rmses)\n",
    "print(tree_rmse_mean)\n",
    "pd.Series(tree_rmses).describe()\n"
   ]
  },
  {
   "attachments": {},
   "cell_type": "markdown",
   "metadata": {},
   "source": [
    "3. Random Forests:"
   ]
  },
  {
   "cell_type": "code",
   "execution_count": 289,
   "metadata": {},
   "outputs": [
    {
     "name": "stdout",
     "output_type": "stream",
     "text": [
      "3.0706264290314884\n",
      "8.11441895581748\n"
     ]
    },
    {
     "data": {
      "text/plain": [
       "count    10.000000\n",
       "mean      8.114419\n",
       "std       2.658035\n",
       "min       4.547800\n",
       "25%       6.630533\n",
       "50%       7.494192\n",
       "75%       9.364410\n",
       "max      14.126300\n",
       "dtype: float64"
      ]
     },
     "execution_count": 289,
     "metadata": {},
     "output_type": "execute_result"
    }
   ],
   "source": [
    "# Fit the model and compare the first 5 predictions to actual data:\n",
    "forest_reg = make_pipeline(preprocessing,\n",
    "                           RandomForestRegressor(random_state=42))\n",
    "forest_reg.fit(mycetoma, mycetoma_labels)\n",
    "mycetoma_predictions = forest_reg.predict(mycetoma)\n",
    "\n",
    "# Calculate the Mean squared error on the whole training set:\n",
    "forest_rmse = mean_squared_error(mycetoma_labels, mycetoma_predictions,\n",
    "                                 squared=False)\n",
    "print(forest_rmse)\n",
    "\n",
    "# Cross validation:\n",
    "forest_rmses = -cross_val_score(forest_reg, mycetoma, mycetoma_labels,\n",
    "                                scoring=\"neg_root_mean_squared_error\", cv=10)\n",
    "forest_rmse_mean = np.mean(forest_rmses)\n",
    "print(forest_rmse_mean)\n",
    "pd.Series(forest_rmses).describe()"
   ]
  },
  {
   "attachments": {},
   "cell_type": "markdown",
   "metadata": {},
   "source": [
    "Evaluate models on test data:"
   ]
  },
  {
   "cell_type": "code",
   "execution_count": 290,
   "metadata": {},
   "outputs": [],
   "source": [
    "# split test data:\n",
    "X_test = test_set.drop('duration_tx', axis=1)\n",
    "y_test = test_set['duration_tx'].copy()\n"
   ]
  },
  {
   "attachments": {},
   "cell_type": "markdown",
   "metadata": {},
   "source": [
    "1. Evaluate linear regression:"
   ]
  },
  {
   "cell_type": "code",
   "execution_count": 291,
   "metadata": {},
   "outputs": [
    {
     "name": "stdout",
     "output_type": "stream",
     "text": [
      "13.90483664608284\n"
     ]
    },
    {
     "data": {
      "text/plain": [
       "array([ 7.19751463, 18.29985649])"
      ]
     },
     "execution_count": 291,
     "metadata": {},
     "output_type": "execute_result"
    }
   ],
   "source": [
    "    #RMSE:\n",
    "linear_predictions = lin_reg.predict(X_test)\n",
    "test_rmse_linreg = mean_squared_error(y_test, linear_predictions, squared=False)\n",
    "print(test_rmse_linreg)\n",
    "    #confidance interval:\n",
    "confidence = 0.95\n",
    "squared_errors = (linear_predictions- y_test) ** 2\n",
    "np.sqrt(stats.t.interval(confidence, len(squared_errors) - 1,\n",
    "                         loc=squared_errors.mean(),\n",
    "                         scale=stats.sem(squared_errors)))"
   ]
  },
  {
   "attachments": {},
   "cell_type": "markdown",
   "metadata": {},
   "source": [
    "2. Evaluate decision tree:"
   ]
  },
  {
   "cell_type": "code",
   "execution_count": 292,
   "metadata": {},
   "outputs": [
    {
     "name": "stdout",
     "output_type": "stream",
     "text": [
      "9.611191393370543\n"
     ]
    },
    {
     "data": {
      "text/plain": [
       "array([ 5.85495469, 12.26660122])"
      ]
     },
     "execution_count": 292,
     "metadata": {},
     "output_type": "execute_result"
    }
   ],
   "source": [
    "    #RMSE:\n",
    "tree_predictions = tree_reg.predict(X_test)\n",
    "test_rmse_treereg = mean_squared_error(y_test, tree_predictions, squared=False)\n",
    "print(test_rmse_treereg)\n",
    "    #confidance interval:\n",
    "confidence = 0.95\n",
    "squared_errors = (tree_predictions- y_test) ** 2\n",
    "np.sqrt(stats.t.interval(confidence, len(squared_errors) - 1,\n",
    "                         loc=squared_errors.mean(),\n",
    "                         scale=stats.sem(squared_errors)))"
   ]
  },
  {
   "attachments": {},
   "cell_type": "markdown",
   "metadata": {},
   "source": [
    "3. Evaluate Random forest:"
   ]
  },
  {
   "cell_type": "code",
   "execution_count": 293,
   "metadata": {},
   "outputs": [
    {
     "name": "stdout",
     "output_type": "stream",
     "text": [
      "8.25095297526292\n"
     ]
    },
    {
     "data": {
      "text/plain": [
       "array([ 2.85662305, 11.31353856])"
      ]
     },
     "execution_count": 293,
     "metadata": {},
     "output_type": "execute_result"
    }
   ],
   "source": [
    "    #RMSE:\n",
    "randforest_predictions = forest_reg.predict(X_test)\n",
    "test_rmse_forestreg = mean_squared_error(y_test, randforest_predictions, squared=False)\n",
    "print(test_rmse_forestreg)\n",
    "    #confidance interval:\n",
    "confidence = 0.95\n",
    "squared_errors = (randforest_predictions- y_test) ** 2\n",
    "np.sqrt(stats.t.interval(confidence, len(squared_errors) - 1,\n",
    "                         loc=squared_errors.mean(),\n",
    "                         scale=stats.sem(squared_errors)))"
   ]
  },
  {
   "attachments": {},
   "cell_type": "markdown",
   "metadata": {},
   "source": [
    "Compring the algorithms:"
   ]
  },
  {
   "cell_type": "code",
   "execution_count": 294,
   "metadata": {},
   "outputs": [
    {
     "name": "stdout",
     "output_type": "stream",
     "text": [
      "                   RMSE_training_set  RMSE_validation_set  RMSE_test_set\n",
      "Linear_Regression           2.874405            17.804758      13.904837\n",
      "Decision_tress              0.000000            11.556585       9.611191\n",
      "Random_forests              3.070626             8.114419       8.250953\n"
     ]
    }
   ],
   "source": [
    "columns = {'RMSE_training_set': [lin_rmse, tree_rmse, forest_rmse],\n",
    "        'RMSE_validation_set': [lin_rmse_mean, tree_rmse_mean, forest_rmse_mean],\n",
    "        'RMSE_test_set': [test_rmse_linreg, test_rmse_treereg, test_rmse_forestreg]}\n",
    "\n",
    "row_names = ['Linear_Regression', 'Decision_tress', 'Random_forests']\n",
    "\n",
    "df_alg_comparisons = pd.DataFrame(columns, index=row_names)\n",
    "\n",
    "print(df_alg_comparisons)"
   ]
  }
 ],
 "metadata": {
  "kernelspec": {
   "display_name": "Python 3",
   "language": "python",
   "name": "python3"
  },
  "language_info": {
   "codemirror_mode": {
    "name": "ipython",
    "version": 3
   },
   "file_extension": ".py",
   "mimetype": "text/x-python",
   "name": "python",
   "nbconvert_exporter": "python",
   "pygments_lexer": "ipython3",
   "version": "3.8.8"
  },
  "orig_nbformat": 4
 },
 "nbformat": 4,
 "nbformat_minor": 2
}
